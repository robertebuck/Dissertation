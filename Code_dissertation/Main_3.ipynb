{
 "cells": [
  {
   "cell_type": "code",
   "execution_count": 1,
   "metadata": {},
   "outputs": [
    {
     "name": "stdout",
     "output_type": "stream",
     "text": [
      "importing Jupyter notebook from plotting.ipynb\n",
      "importing Jupyter notebook from finite_difference_functions.ipynb\n",
      "importing Jupyter notebook from misc_functions.ipynb\n",
      "importing Jupyter notebook from Monte_Carlo_functions.ipynb\n"
     ]
    }
   ],
   "source": [
    "import import_ipynb\n",
    "import plotting\n",
    "import finite_difference_functions as fd_fct\n",
    "import misc_functions as msc_fct\n",
    "import Monte_Carlo_functions as mc_fct\n",
    "import numpy as np\n",
    "import matplotlib.pyplot as plt\n",
    "import time"
   ]
  },
  {
   "cell_type": "markdown",
   "metadata": {},
   "source": [
    "### Setting up parameters"
   ]
  },
  {
   "cell_type": "code",
   "execution_count": 2,
   "metadata": {},
   "outputs": [],
   "source": [
    "# initial various parameters\n",
    "T = 60\n",
    "Ndt = 100000\n",
    "dt = T / Ndt\n",
    "\n",
    "t_HJB = np.arange(0, T + dt, dt)\n",
    "tau = T - t_HJB\n",
    "\n",
    "# price jump sizes\n",
    "sigma = 0.01\n",
    "\n",
    "kappa = 100\n",
    "xi = 0.01\n",
    "alpha = 0.001\n",
    "\n",
    "lamb = 50 / 60\n",
    "Nq = 1\n",
    "q = np.arange(0, Nq + 1, 1)\n",
    "phi = 0.001\n",
    "\n",
    "# AC Solution\n",
    "phiAC = 10 ** (-5)\n",
    "aAC = 0.001\n",
    "\n",
    "qAC_HJB = msc_fct.AC_solver(phiAC, aAC, tau, T, Nq)"
   ]
  },
  {
   "cell_type": "markdown",
   "metadata": {},
   "source": [
    "### HJB approach"
   ]
  },
  {
   "cell_type": "code",
   "execution_count": 3,
   "metadata": {},
   "outputs": [
    {
     "name": "stderr",
     "output_type": "stream",
     "text": [
      "C:\\Users\\User\\anaconda3\\lib\\site-packages\\ipykernel_launcher.py:1: DeprecationWarning: time.clock has been deprecated in Python 3.3 and will be removed from Python 3.8: use time.perf_counter or time.process_time instead\n",
      "  \"\"\"Entry point for launching an IPython kernel.\n",
      "C:\\Users\\User\\anaconda3\\lib\\site-packages\\ipykernel_launcher.py:11: DeprecationWarning: time.clock has been deprecated in Python 3.3 and will be removed from Python 3.8: use time.perf_counter or time.process_time instead\n",
      "  # This is added back by InteractiveShellApp.init_path()\n"
     ]
    }
   ],
   "source": [
    "t0 = time.clock()\n",
    "# solve the QVI for omega\n",
    "omega, exe = fd_fct.QVI_solver(t_HJB, dt, kappa, xi, phi, q, qAC_HJB, lamb)\n",
    "\n",
    "# obtain the optimal time at which to execute market orders\n",
    "t_opt = fd_fct.find_opt_t(exe, t_HJB)\n",
    "\n",
    "# Solve for delta\n",
    "delta_HJB = fd_fct.find_delta(kappa, omega, Nq, Ndt)\n",
    "\n",
    "t1 = time.clock() - t0"
   ]
  },
  {
   "cell_type": "markdown",
   "metadata": {},
   "source": [
    "### Monte Carlo approach"
   ]
  },
  {
   "cell_type": "code",
   "execution_count": 4,
   "metadata": {},
   "outputs": [],
   "source": [
    "# changing grid\n",
    "T = 60\n",
    "Ndt = 6\n",
    "dt = T / Ndt\n",
    "\n",
    "t_MC = np.arange(0, T + dt, dt)\n",
    "tau = T - t_MC\n",
    "\n",
    "# imputing the monte carlo parameters\n",
    "NSIM = 5000\n",
    "actions = 10\n",
    "confidence = 3000\n",
    "conf = 500\n",
    "epsilon = 0.4\n",
    "S0 = 1\n",
    "comp = 5\n",
    "\n",
    "np.random.seed(100)\n",
    "\n",
    "# simulating data\n",
    "sim = mc_fct.sim_orders(dt, Ndt, NSIM, kappa, lamb)\n",
    "\n",
    "# discretising the depth\n",
    "sections, mid = mc_fct.discretisation(sim, actions)\n",
    "\n",
    "# producing all possible state action pairs\n",
    "state_actions = mc_fct.state_action(t_MC, q, Ndt, Nq, mid)\n",
    "\n",
    "# selecting a ranomd policy\n",
    "policy = mc_fct.rand_policy(state_actions, Ndt, dt, Nq)\n",
    "\n",
    "# selecting multiple policies\n",
    "policy_values = mc_fct.get_policies(policy, state_actions, Ndt, dt, Nq, confidence)\n",
    "\n",
    "# getting the target inventory schedule\n",
    "q_target = msc_fct.AC_solver(phiAC, kappa, tau, T, Nq)\n",
    "\n",
    "np.random.seed(100)\n",
    "\n",
    "# getting the optimal policy\n",
    "pol, value, N, time, comparision = mc_fct.optimum_policy(policy_values, epsilon, state_actions, Ndt, dt, Nq, S0, sigma, xi, sim, q_target, phi, conf, comp)"
   ]
  },
  {
   "cell_type": "code",
   "execution_count": 5,
   "metadata": {},
   "outputs": [
    {
     "data": {
      "text/plain": [
       "<matplotlib.legend.Legend at 0x19eb7a7ee88>"
      ]
     },
     "execution_count": 5,
     "metadata": {},
     "output_type": "execute_result"
    },
    {
     "data": {
      "image/png": "[encoded data removed]",
      "text/plain": [
       "<Figure size 432x288 with 1 Axes>"
      ]
     },
     "metadata": {
      "needs_background": "light"
     },
     "output_type": "display_data"
    }
   ],
   "source": [
    "delta_mc = np.full(len(t_MC),np.nan)\n",
    "\n",
    "for i in range(1, len(t_MC), 1):\n",
    "    delta_mc[i] = pol[(i*dt,1)][1]\n",
    "\n",
    "#plt.show()\n",
    "plt.plot(t_HJB,delta_HJB[1])\n",
    "plt.scatter(t_MC-dt, delta_mc)\n",
    "plt.ylabel(r'Depth ($\\delta$)')\n",
    "plt.xlabel(r'Time ($sec$)')\n",
    "plt.legend(['QVI','MC'])"
   ]
  },
  {
   "cell_type": "markdown",
   "metadata": {},
   "source": [
    "Value function of HJB solution:"
   ]
  },
  {
   "cell_type": "code",
   "execution_count": 6,
   "metadata": {},
   "outputs": [
    {
     "name": "stdout",
     "output_type": "stream",
     "text": [
      "1.0177658740367526\n"
     ]
    }
   ],
   "source": [
    "h = (1/kappa)*np.log(omega)\n",
    "V = h[1,1] + S0*Nq\n",
    "print(V)"
   ]
  },
  {
   "cell_type": "markdown",
   "metadata": {},
   "source": [
    "Value function of Monte Carlo method"
   ]
  },
  {
   "cell_type": "code",
   "execution_count": 7,
   "metadata": {},
   "outputs": [
    {
     "name": "stdout",
     "output_type": "stream",
     "text": [
      "1.0041540496791623\n"
     ]
    }
   ],
   "source": [
    "print(value)"
   ]
  },
  {
   "cell_type": "markdown",
   "metadata": {},
   "source": [
    "Run time of HJB"
   ]
  },
  {
   "cell_type": "code",
   "execution_count": 8,
   "metadata": {},
   "outputs": [
    {
     "name": "stdout",
     "output_type": "stream",
     "text": [
      "5.696357600000001\n"
     ]
    }
   ],
   "source": [
    "print(t1)"
   ]
  },
  {
   "cell_type": "markdown",
   "metadata": {},
   "source": [
    "Run time of Monte Carlo method"
   ]
  },
  {
   "cell_type": "code",
   "execution_count": 9,
   "metadata": {},
   "outputs": [
    {
     "name": "stdout",
     "output_type": "stream",
     "text": [
      "1392.8712711\n"
     ]
    }
   ],
   "source": [
    "print(time)"
   ]
  },
  {
   "cell_type": "code",
   "execution_count": 23,
   "metadata": {
    "scrolled": true
   },
   "outputs": [
    {
     "name": "stdout",
     "output_type": "stream",
     "text": [
      "[[1.00215283e+00 5.05000000e+02 4.26034459e-02]\n",
      " [1.00220962e+00 5.24000000e+02 2.30121659e-02]\n",
      " [1.00224732e+00 5.16000000e+02 2.74188547e-02]\n",
      " [1.00233646e+00 5.37000000e+02 1.77828648e-02]\n",
      " [1.00415405e+00 1.56000000e+03 8.79292097e-02]]\n"
     ]
    }
   ],
   "source": [
    "print(comparision)"
   ]
  },
  {
   "cell_type": "markdown",
   "metadata": {},
   "source": [
    "#### Script to produce t values"
   ]
  },
  {
   "cell_type": "code",
   "execution_count": 35,
   "metadata": {
    "scrolled": true
   },
   "outputs": [
    {
     "name": "stdout",
     "output_type": "stream",
     "text": [
      "[0.16869595285715408, 0.19417054038862036, 0.18221257033292218, 0.1921469041223611, 0.0]\n",
      "[0.4330517404321313, 0.4230588719451307, 0.42774380415271007, 0.4238499542976941, 0.5]\n"
     ]
    }
   ],
   "source": [
    "from scipy import stats\n",
    "max_mean = comparision[:,0].max()\n",
    "s = comparision[np.where(comparision[:,0] == max_mean),2][0][0] / comparision[np.where(comparision[:,0] == max_mean),1][0][0]\n",
    "max_n = comparision[np.where(comparision[:,0] == max_mean),1][0][0]\n",
    "t = []\n",
    "for i in range(0,np.shape(comparision)[0],1):\n",
    "    t.append((max_mean - comparision[i,0])/np.sqrt(s + comparision[i,2]/comparision[i,1]))\n",
    "print(t)\n",
    "\n",
    "pval = []\n",
    "for i in range(0,len(t),1):\n",
    "    n = min(max_n,comparision[i,1])\n",
    "    pval.append(stats.t.sf(np.abs(t[i]), n-1))\n",
    "print(pval)"
   ]
  },
  {
   "cell_type": "markdown",
   "metadata": {},
   "source": [
    "#### Script to produce t values for twap approach"
   ]
  },
  {
   "cell_type": "code",
   "execution_count": 39,
   "metadata": {
    "scrolled": true
   },
   "outputs": [
    {
     "name": "stdout",
     "output_type": "stream",
     "text": [
      "1.219295523618058\n",
      "0.11145824442147985\n"
     ]
    }
   ],
   "source": [
    "t_twap = (max_mean - 0.995)/(np.sqrt(s))\n",
    "print(t_twap)\n",
    "print(stats.t.sf(np.abs(t_twap), max_n-1))"
   ]
  }
 ],
 "metadata": {
  "kernelspec": {
   "display_name": "Python 3",
   "language": "python",
   "name": "python3"
  },
  "language_info": {
   "codemirror_mode": {
    "name": "ipython",
    "version": 3
   },
   "file_extension": ".py",
   "mimetype": "text/x-python",
   "name": "python",
   "nbconvert_exporter": "python",
   "pygments_lexer": "ipython3",
   "version": "3.7.6"
  }
 },
 "nbformat": 4,
 "nbformat_minor": 4
}
