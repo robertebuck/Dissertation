{
 "cells": [
  {
   "cell_type": "code",
   "execution_count": 1,
   "metadata": {},
   "outputs": [
    {
     "name": "stdout",
     "output_type": "stream",
     "text": [
      "importing Jupyter notebook from Monte_Carlo_functions.ipynb\n",
      "importing Jupyter notebook from misc_functions.ipynb\n",
      "importing Jupyter notebook from plotting.ipynb\n"
     ]
    }
   ],
   "source": [
    "import numpy as np\n",
    "import matplotlib.pyplot as plt\n",
    "import import_ipynb\n",
    "import Monte_Carlo_functions as mc_fct\n",
    "import misc_functions as msc_fct\n",
    "import plotting\n",
    "import pandas as pd\n",
    "import random"
   ]
  },
  {
   "cell_type": "markdown",
   "metadata": {},
   "source": [
    "### Inital  Parameters"
   ]
  },
  {
   "cell_type": "code",
   "execution_count": 2,
   "metadata": {},
   "outputs": [],
   "source": [
    "# initial various parameters\n",
    "T = 10\n",
    "Ndt = 10\n",
    "dt = T / Ndt\n",
    "NSIM = 3\n",
    "\n",
    "t = np.arange(0, T + dt, dt)\n",
    "tau = T - t\n",
    "\n",
    "# price jump sizes\n",
    "sigma = 0.01\n",
    "\n",
    "kappa = 100\n",
    "xi = 0.01\n",
    "alpha = 0.001\n",
    "\n",
    "lamb = 50 / 60\n",
    "Nq = 2\n",
    "phi = 0.001\n",
    "\n",
    "# AC Solution\n",
    "phiAC = 10 ** (-5)\n",
    "aAC = 0.001"
   ]
  },
  {
   "cell_type": "markdown",
   "metadata": {},
   "source": [
    "### Simulations graphical example"
   ]
  },
  {
   "cell_type": "code",
   "execution_count": 3,
   "metadata": {},
   "outputs": [
    {
     "data": {
      "image/png": "[encoded data removed]",
      "text/plain": [
       "<Figure size 432x288 with 1 Axes>"
      ]
     },
     "metadata": {
      "needs_background": "light"
     },
     "output_type": "display_data"
    }
   ],
   "source": [
    "np.random.seed(100)\n",
    "sim = mc_fct.sim_orders(dt, Ndt, NSIM, kappa, lamb)\n",
    "sections, mid = mc_fct.discretisation(sim,5)\n",
    "plotting.plot_buy_orders(sim, t, midpoint=mid)"
   ]
  }
 ],
 "metadata": {
  "kernelspec": {
   "display_name": "Python 3",
   "language": "python",
   "name": "python3"
  },
  "language_info": {
   "codemirror_mode": {
    "name": "ipython",
    "version": 3
   },
   "file_extension": ".py",
   "mimetype": "text/x-python",
   "name": "python",
   "nbconvert_exporter": "python",
   "pygments_lexer": "ipython3",
   "version": "3.7.6"
  }
 },
 "nbformat": 4,
 "nbformat_minor": 4
}
