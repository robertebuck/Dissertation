{
 "cells": [
  {
   "cell_type": "code",
   "execution_count": 1,
   "metadata": {},
   "outputs": [],
   "source": [
    "import numpy as np"
   ]
  },
  {
   "cell_type": "code",
   "execution_count": 3,
   "metadata": {},
   "outputs": [],
   "source": [
    "def nan_overwrite(x, replace):\n",
    "    \"\"\" \n",
    "    Change the NaNs in a numpy array to desired values\n",
    "    \n",
    "    imputs:\n",
    "    x: a numpy array\n",
    "    replace: desired value\n",
    "    \n",
    "    return: \n",
    "    y: a copy of x with changed values\n",
    "    \"\"\"\n",
    "    y = np.copy(x)\n",
    "    y[np.isnan(y)] = replace\n",
    "    return y"
   ]
  },
  {
   "cell_type": "code",
   "execution_count": 4,
   "metadata": {},
   "outputs": [],
   "source": [
    "def AC_solver(phi, kappa, tau, T, Nq):\n",
    "    \"\"\" \n",
    "    Returns the Almgren-Chriss liquidation schedule with \n",
    "    temporary and perminant price impact\n",
    "    \n",
    "    phi, kappa, Nq: exogenous varaibles that impact liquidity need\n",
    "    tau: remaining time\n",
    "    T: termination time\n",
    "    return: \n",
    "    qAC: the optimal liquidation schedule\n",
    "    \"\"\"\n",
    "    gamma = np.sqrt(phi / kappa)\n",
    "    qAC = Nq * np.divide((np.exp(gamma * tau) - np.exp(-gamma * tau)), np.exp(gamma * T) - np.exp(-gamma * T))\n",
    "    return qAC"
   ]
  }
 ],
 "metadata": {
  "kernelspec": {
   "display_name": "Python 3",
   "language": "python",
   "name": "python3"
  },
  "language_info": {
   "codemirror_mode": {
    "name": "ipython",
    "version": 3
   },
   "file_extension": ".py",
   "mimetype": "text/x-python",
   "name": "python",
   "nbconvert_exporter": "python",
   "pygments_lexer": "ipython3",
   "version": "3.7.6"
  }
 },
 "nbformat": 4,
 "nbformat_minor": 4
}
